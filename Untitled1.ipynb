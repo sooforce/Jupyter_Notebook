{
 "cells": [
  {
   "cell_type": "markdown",
   "id": "385abb7e-2efd-411a-91e3-b31120eee00c",
   "metadata": {},
   "source": [
    "# My First Project"
   ]
  },
  {
   "cell_type": "markdown",
   "id": "a1db8d35-d8cb-4712-98ac-f0d8d73aa27f",
   "metadata": {},
   "source": [
    "## Introduction\n",
    "In this notebook....\n"
   ]
  },
  {
   "cell_type": "markdown",
   "id": "c6c4c570-ed04-4c6d-9565-6d183404fe77",
   "metadata": {},
   "source": [
    "## Data Science Languages\n",
    "1. Python\n",
    "2. R\n",
    "3. SQL\n",
    "4. Julia\n",
    "5. Scala\n"
   ]
  },
  {
   "cell_type": "markdown",
   "id": "f2b0f0ca-7892-4228-af13-1e64b90711bc",
   "metadata": {},
   "source": [
    "## Data Science Libraries\n",
    "1. NumPy\n",
    "2. Pandas\n",
    "3. Matplotlib\n",
    "4. Scikit-learn\n",
    "5. TensorFlow\n",
    "6. PyTorch\n"
   ]
  },
  {
   "cell_type": "markdown",
   "id": "69cb0012-5d72-45f0-8e18-31f6be8c1509",
   "metadata": {},
   "source": [
    "## Data Science Tools\n",
    "| Tool           | Description                       |\n",
    "|----------------|-----------------------------------|\n",
    "| Jupyter Notebook | Interactive coding environment  |\n",
    "| RStudio        | IDE for R programming            |\n",
    "| Apache Spark   | Big data processing framework    |\n",
    "| Tableau        | Data visualization platform      |\n"
   ]
  },
  {
   "cell_type": "markdown",
   "id": "f972d959-babc-4537-8ff5-5e0fa674a63e",
   "metadata": {},
   "source": [
    "## Arithmetic Expressions\n",
    "Below are examples of arithmetic expressions.\n"
   ]
  },
  {
   "cell_type": "code",
   "execution_count": 7,
   "id": "5411783b-82f3-4bf7-8cd4-27f1105efc13",
   "metadata": {},
   "outputs": [
    {
     "name": "stdout",
     "output_type": "stream",
     "text": [
      "The result is: 17\n"
     ]
    }
   ],
   "source": [
    "# Multiplication and addition example\n",
    "result = (3 * 4) + 5\n",
    "print(\"The result is:\", result)\n"
   ]
  },
  {
   "cell_type": "code",
   "execution_count": 9,
   "id": "2887d9f3-fafd-4b04-835a-b238dfed7513",
   "metadata": {},
   "outputs": [
    {
     "name": "stdout",
     "output_type": "stream",
     "text": [
      "200 minutes is equal to 3.3333333333333335 hours.\n"
     ]
    }
   ],
   "source": [
    "# Convert minutes to hours\n",
    "minutes = 200\n",
    "hours = minutes / 60\n",
    "print(f\"{minutes} minutes is equal to {hours} hours.\")\n"
   ]
  },
  {
   "cell_type": "markdown",
   "id": "26abe4f2-c704-482e-8421-5600b2f7f860",
   "metadata": {},
   "source": [
    "## Objectives\n",
    "- Learn about Data Science tools\n",
    "- Understand programming languages for Data Science\n",
    "- Explore popular libraries and frameworks\n",
    "- Practice basic arithmetic expressions\n"
   ]
  },
  {
   "cell_type": "markdown",
   "id": "e209de80-3274-4780-b8c6-a5e5e019f15d",
   "metadata": {},
   "source": [
    "## Author\n",
    "Elias Kyriakides\n"
   ]
  },
  {
   "cell_type": "code",
   "execution_count": null,
   "id": "21e54ac8-21fb-4fbb-a960-d9ea6711f8b2",
   "metadata": {},
   "outputs": [],
   "source": []
  }
 ],
 "metadata": {
  "kernelspec": {
   "display_name": "Python [conda env:base] *",
   "language": "python",
   "name": "conda-base-py"
  },
  "language_info": {
   "codemirror_mode": {
    "name": "ipython",
    "version": 3
   },
   "file_extension": ".py",
   "mimetype": "text/x-python",
   "name": "python",
   "nbconvert_exporter": "python",
   "pygments_lexer": "ipython3",
   "version": "3.12.7"
  }
 },
 "nbformat": 4,
 "nbformat_minor": 5
}
